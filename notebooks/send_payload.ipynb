{
 "cells": [
  {
   "attachments": {},
   "cell_type": "markdown",
   "metadata": {},
   "source": [
    "# Loads json payload and retrieves predictions from API"
   ]
  },
  {
   "cell_type": "code",
   "execution_count": 2,
   "metadata": {},
   "outputs": [
    {
     "name": "stdout",
     "output_type": "stream",
     "text": [
      "{\n",
      "    \"predictions\": [\n",
      "        {\n",
      "            \"churn_percentage\": 2.75,\n",
      "            \"non_churn_percentage\": 97.25\n",
      "        },\n",
      "        {\n",
      "            \"churn_percentage\": 41.73,\n",
      "            \"non_churn_percentage\": 58.27\n",
      "        }\n",
      "    ]\n",
      "}\n"
     ]
    }
   ],
   "source": [
    "import json\n",
    "import requests\n",
    "\n",
    "# Read the JSON file\n",
    "with open('payload.json', 'r') as file:\n",
    "    payload = json.load(file)\n",
    "\n",
    "# API endpoint\n",
    "url = 'http://3.106.128.235/api/predict'\n",
    "\n",
    "# Send the data to the API\n",
    "response = requests.post(url, json=payload)\n",
    "\n",
    "# Get the predictions from the response\n",
    "predictions = response.json()\n",
    "\n",
    "# Pretty-print the predictions\n",
    "pretty_predictions = json.dumps(predictions, indent=4)\n",
    "\n",
    "# Print the pretty-printed predictions\n",
    "print(pretty_predictions)"
   ]
  },
  {
   "cell_type": "code",
   "execution_count": null,
   "metadata": {},
   "outputs": [],
   "source": []
  }
 ],
 "metadata": {
  "kernelspec": {
   "display_name": "base",
   "language": "python",
   "name": "python3"
  },
  "language_info": {
   "codemirror_mode": {
    "name": "ipython",
    "version": 3
   },
   "file_extension": ".py",
   "mimetype": "text/x-python",
   "name": "python",
   "nbconvert_exporter": "python",
   "pygments_lexer": "ipython3",
   "version": "3.9.13"
  },
  "orig_nbformat": 4
 },
 "nbformat": 4,
 "nbformat_minor": 2
}
